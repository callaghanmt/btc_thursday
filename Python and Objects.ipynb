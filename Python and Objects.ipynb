{
 "metadata": {
  "name": "",
  "signature": "sha256:6058ea16a90655e71e14a9f035edf1f49801ea3694611a68b3204d6dd9bb3d6f"
 },
 "nbformat": 3,
 "nbformat_minor": 0,
 "worksheets": [
  {
   "cells": [
    {
     "cell_type": "heading",
     "level": 1,
     "metadata": {},
     "source": [
      "Python and Objects"
     ]
    },
    {
     "cell_type": "markdown",
     "metadata": {},
     "source": [
      "In the simplest sense, the world around us consists of objects.\n",
      "In software (and Python terms), classes are templates for objects.\n",
      "\n",
      "When we create an object, we are creating an instance of the class; the process is called <b>instantiation</b>.\n",
      "\n",
      "Most people can live quite happily without object programming, but understanding a few basic concepts can be helpful."
     ]
    },
    {
     "cell_type": "heading",
     "level": 4,
     "metadata": {},
     "source": [
      "Creating a class"
     ]
    },
    {
     "cell_type": "markdown",
     "metadata": {},
     "source": [
      "In this example, we'll create a template for a 'PhD student' class. We'll later use this to create instances of the class."
     ]
    },
    {
     "cell_type": "code",
     "collapsed": false,
     "input": [
      "class Phdstudent:\n",
      "    'Common base class or template for PhD students'\n",
      "    studentCount=0\n",
      "    \n",
      "    def __init__(self, name, subject):\n",
      "        self.name = name\n",
      "        self.subject = subject\n",
      "        Phdstudent.studentCount += 1\n",
      "        \n",
      "    def displayCount(self):\n",
      "        print 'Total number of students', Phdstudent.studentCount\n",
      "        \n",
      "    def displayPhdstudent (self):\n",
      "        print 'Name: ', self.name\n",
      "        \n",
      "    def displaySubject (self):\n",
      "        print 'Subject: ', self.subject\n",
      "        "
     ],
     "language": "python",
     "metadata": {},
     "outputs": []
    },
    {
     "cell_type": "markdown",
     "metadata": {},
     "source": [
      "This class has a single <b>class variable</b> accessible from all the instances. It is used to store the total number of students.\n",
      "\n",
      "The class has four functions (called <b>methods</b> in object oriented terminology).\n",
      "\n",
      "The first, __init__ is the <b>class constructor</b>; this is executed when an instance is created (instantiated).\n",
      "\n",
      "<b>self</b> is how we refer to things in the class from within itself. self is the first parameter in any function defined inside a class. \n",
      "\n",
      "So, on to creating some instances:"
     ]
    },
    {
     "cell_type": "code",
     "collapsed": false,
     "input": [
      "student1 = Phdstudent('Jane', 'Geography')"
     ],
     "language": "python",
     "metadata": {},
     "outputs": []
    },
    {
     "cell_type": "code",
     "collapsed": false,
     "input": [
      "student2 = Phdstudent('Hannah', 'Something to do with rocks')"
     ],
     "language": "python",
     "metadata": {},
     "outputs": []
    },
    {
     "cell_type": "markdown",
     "metadata": {},
     "source": [
      "This is how to dynamically create an instance based on a variable name. There are neater ways of doing this!"
     ]
    },
    {
     "cell_type": "code",
     "collapsed": false,
     "input": [
      "newname='student3'\n",
      "exec(newname +\"= Phdstudent('John', 'English')\")"
     ],
     "language": "python",
     "metadata": {},
     "outputs": []
    },
    {
     "cell_type": "markdown",
     "metadata": {},
     "source": [
      "Note the 'dot' notation. This is how access the data associated with an instance."
     ]
    },
    {
     "cell_type": "code",
     "collapsed": false,
     "input": [
      "print Phdstudent.studentCount"
     ],
     "language": "python",
     "metadata": {},
     "outputs": []
    },
    {
     "cell_type": "code",
     "collapsed": false,
     "input": [
      "student3.displaySubject()"
     ],
     "language": "python",
     "metadata": {},
     "outputs": []
    },
    {
     "cell_type": "code",
     "collapsed": false,
     "input": [
      "student1.displayPhdstudent()"
     ],
     "language": "python",
     "metadata": {},
     "outputs": []
    },
    {
     "cell_type": "code",
     "collapsed": false,
     "input": [
      "student1.subject = \"History\""
     ],
     "language": "python",
     "metadata": {},
     "outputs": []
    },
    {
     "cell_type": "code",
     "collapsed": false,
     "input": [
      "student1.displaySubject()"
     ],
     "language": "python",
     "metadata": {},
     "outputs": []
    },
    {
     "cell_type": "heading",
     "level": 1,
     "metadata": {},
     "source": [
      "Operating System"
     ]
    },
    {
     "cell_type": "markdown",
     "metadata": {},
     "source": [
      "The <b>os</b> library permits the direct execution of operating system commands"
     ]
    },
    {
     "cell_type": "code",
     "collapsed": false,
     "input": [
      "import os"
     ],
     "language": "python",
     "metadata": {},
     "outputs": []
    },
    {
     "cell_type": "code",
     "collapsed": false,
     "input": [
      "os.mkdir('data')"
     ],
     "language": "python",
     "metadata": {},
     "outputs": []
    },
    {
     "cell_type": "code",
     "collapsed": false,
     "input": [
      "os.chdir('data')"
     ],
     "language": "python",
     "metadata": {},
     "outputs": []
    },
    {
     "cell_type": "code",
     "collapsed": false,
     "input": [
      "os.mkdir('csv_files')"
     ],
     "language": "python",
     "metadata": {},
     "outputs": []
    },
    {
     "cell_type": "code",
     "collapsed": false,
     "input": [
      "os.rmdir('csv_files')"
     ],
     "language": "python",
     "metadata": {},
     "outputs": []
    },
    {
     "cell_type": "code",
     "collapsed": false,
     "input": [
      "os.getcwd()"
     ],
     "language": "python",
     "metadata": {},
     "outputs": []
    },
    {
     "cell_type": "heading",
     "level": 4,
     "metadata": {},
     "source": [
      "And finally..."
     ]
    },
    {
     "cell_type": "markdown",
     "metadata": {},
     "source": [
      "Displaying a prompt to the user to get some text input."
     ]
    },
    {
     "cell_type": "code",
     "collapsed": false,
     "input": [
      "instr= raw_input('Tell me what to do...')"
     ],
     "language": "python",
     "metadata": {},
     "outputs": []
    }
   ],
   "metadata": {}
  }
 ]
}