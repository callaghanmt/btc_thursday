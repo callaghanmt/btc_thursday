{
 "metadata": {
  "name": "",
  "signature": "sha256:b2827ded04fe0684c614e4bdb1d6171d9eece23a322724d6bb6b7ef7571858fd"
 },
 "nbformat": 3,
 "nbformat_minor": 0,
 "worksheets": [
  {
   "cells": [
    {
     "cell_type": "heading",
     "level": 1,
     "metadata": {},
     "source": [
      "Working with data interactively"
     ]
    },
    {
     "cell_type": "markdown",
     "metadata": {},
     "source": [
      "Necessary setup:"
     ]
    },
    {
     "cell_type": "code",
     "collapsed": false,
     "input": [
      "from netCDF4 import Dataset, num2date, date2num\n",
      "from IPython.html.widgets import *\n",
      "%matplotlib inline"
     ],
     "language": "python",
     "metadata": {},
     "outputs": []
    },
    {
     "cell_type": "markdown",
     "metadata": {},
     "source": [
      "First let's have a look at simple sine wave with frequency `f`"
     ]
    },
    {
     "cell_type": "code",
     "collapsed": false,
     "input": [
      "x=linspace(0,1,100)\n",
      "f=2"
     ],
     "language": "python",
     "metadata": {},
     "outputs": []
    },
    {
     "cell_type": "code",
     "collapsed": false,
     "input": [
      "plot(x,sin(2*pi*x*f));"
     ],
     "language": "python",
     "metadata": {},
     "outputs": []
    },
    {
     "cell_type": "markdown",
     "metadata": {},
     "source": [
      "We can also create a function out of this line and provide frequency as an argument:"
     ]
    },
    {
     "cell_type": "code",
     "collapsed": false,
     "input": [
      "def pltsin(f):\n",
      "    plot(x,sin(2*pi*x*f))"
     ],
     "language": "python",
     "metadata": {},
     "outputs": []
    },
    {
     "cell_type": "markdown",
     "metadata": {},
     "source": [
      "In order to plot with different frequencies we have to always change the value of input argument:"
     ]
    },
    {
     "cell_type": "code",
     "collapsed": false,
     "input": [
      "pltsin(9)"
     ],
     "language": "python",
     "metadata": {},
     "outputs": []
    },
    {
     "cell_type": "markdown",
     "metadata": {},
     "source": [
      "Bet there is a better way to do this - use `interact`. You give it the name of the function as a first argument, and parameter that you would like to vary (`f` in our case) with some limits (from 1 to 10) and step (0.1)."
     ]
    },
    {
     "cell_type": "code",
     "collapsed": false,
     "input": [
      "interact(pltsin, f=(1,10,0.1));"
     ],
     "language": "python",
     "metadata": {},
     "outputs": []
    },
    {
     "cell_type": "markdown",
     "metadata": {},
     "source": [
      "Now you can interactively change frequency and immediately see the result. This slider will work with both mouse and arrow keys."
     ]
    },
    {
     "cell_type": "markdown",
     "metadata": {},
     "source": [
      "Let\u2019s add another parameter - amplitude (`a`):"
     ]
    },
    {
     "cell_type": "code",
     "collapsed": false,
     "input": [
      "def pltsin(f, a):\n",
      "    plot(x,a*sin(2*pi*x*f))\n",
      "    ylim(-10,10)"
     ],
     "language": "python",
     "metadata": {},
     "outputs": []
    },
    {
     "cell_type": "code",
     "collapsed": false,
     "input": [
      "interact(pltsin, f=(1,10,0.1), a=(1,10,1));"
     ],
     "language": "python",
     "metadata": {},
     "outputs": []
    },
    {
     "cell_type": "markdown",
     "metadata": {},
     "source": [
      "Now we have two sliders, and we can vary two parameters independently."
     ]
    },
    {
     "cell_type": "markdown",
     "metadata": {},
     "source": [
      "Now for something completely different. We going to explore netCDF data with `interact`, but first we have to download them. Here is a little script, that will download daily air temperature, relative humidity, and wind components from NCEP reanalysis:"
     ]
    },
    {
     "cell_type": "code",
     "collapsed": false,
     "input": [
      "import urllib\n",
      "variabs = ['air', 'uwnd', 'vwnd', 'rhum']\n",
      "for vvv in variabs:\n",
      "    for i in range(2000,2010):\n",
      "        url=\"ftp://ftp.cdc.noaa.gov/Datasets/ncep.reanalysis.dailyavgs/surface/\"+ vvv +\".sig995.\" + str(i) + \".nc\"\n",
      "        filename= vvv + \".sig995.\" + str(i) + \".nc\"\n",
      "        #urllib.urlretrieve(url, filename)\n",
      "        print url\n",
      "        print filename\n",
      "        "
     ],
     "language": "python",
     "metadata": {},
     "outputs": []
    },
    {
     "cell_type": "markdown",
     "metadata": {},
     "source": [
      "First consider simplest one file case. We open the file:"
     ]
    },
    {
     "cell_type": "code",
     "collapsed": false,
     "input": [
      "f = Dataset('air.sig995.2000.nc')"
     ],
     "language": "python",
     "metadata": {},
     "outputs": []
    },
    {
     "cell_type": "markdown",
     "metadata": {},
     "source": [
      "Get our variable:"
     ]
    },
    {
     "cell_type": "code",
     "collapsed": false,
     "input": [
      "air = f.variables['air']"
     ],
     "language": "python",
     "metadata": {},
     "outputs": []
    },
    {
     "cell_type": "markdown",
     "metadata": {},
     "source": [
      "And display first time step:"
     ]
    },
    {
     "cell_type": "code",
     "collapsed": false,
     "input": [
      "imshow(air[0,:,:])"
     ],
     "language": "python",
     "metadata": {},
     "outputs": []
    },
    {
     "cell_type": "markdown",
     "metadata": {},
     "source": [
      "Obvious thing to do is to browse through days. We make our plotting function:"
     ]
    },
    {
     "cell_type": "code",
     "collapsed": false,
     "input": [
      "def sh(time):\n",
      "    imshow(air[time,:,:])"
     ],
     "language": "python",
     "metadata": {},
     "outputs": []
    },
    {
     "cell_type": "markdown",
     "metadata": {},
     "source": [
      "That will take day's number as an argument:"
     ]
    },
    {
     "cell_type": "code",
     "collapsed": false,
     "input": [
      "sh(0)"
     ],
     "language": "python",
     "metadata": {},
     "outputs": []
    },
    {
     "cell_type": "markdown",
     "metadata": {},
     "source": [
      "And make it interactive:"
     ]
    },
    {
     "cell_type": "code",
     "collapsed": false,
     "input": [
      "interact(sh, time=(0,355,1));"
     ],
     "language": "python",
     "metadata": {},
     "outputs": []
    },
    {
     "cell_type": "markdown",
     "metadata": {},
     "source": [
      "But what if we would like to switch between variables? We can do this by adding another argument (we just open different files):"
     ]
    },
    {
     "cell_type": "code",
     "collapsed": false,
     "input": [
      "def sh(var='air', time=0):\n",
      "    f = Dataset(var+'.sig995.2000.nc')\n",
      "    vv = f.variables[var]\n",
      "    imshow(vv[time,:,:])"
     ],
     "language": "python",
     "metadata": {},
     "outputs": []
    },
    {
     "cell_type": "markdown",
     "metadata": {},
     "source": [
      "For our `interact` function we also have to have list of all possible variables:"
     ]
    },
    {
     "cell_type": "code",
     "collapsed": false,
     "input": [
      "variabs = ['air', 'uwnd', 'vwnd', 'rhum']"
     ],
     "language": "python",
     "metadata": {},
     "outputs": []
    },
    {
     "cell_type": "code",
     "collapsed": false,
     "input": [
      "interact(sh, time=(0,355,1), var=variabs);"
     ],
     "language": "python",
     "metadata": {},
     "outputs": []
    },
    {
     "cell_type": "markdown",
     "metadata": {},
     "source": [
      "Since we give is a list, `interact` creates not a slider, but drop-down list."
     ]
    },
    {
     "cell_type": "markdown",
     "metadata": {},
     "source": [
      "Let's add years to the picture:"
     ]
    },
    {
     "cell_type": "code",
     "collapsed": false,
     "input": [
      "def sh(year='2000',var='air', time=0):\n",
      "    f = Dataset(var+'.sig995.'+year+'.nc')\n",
      "    vv = f.variables[var]\n",
      "    imshow(vv[time,:,:])"
     ],
     "language": "python",
     "metadata": {},
     "outputs": []
    },
    {
     "cell_type": "markdown",
     "metadata": {},
     "source": [
      "I don't want to select years with slider, I want them to be also a drop down list, so I form the the list with years: "
     ]
    },
    {
     "cell_type": "code",
     "collapsed": false,
     "input": [
      "years = [str(x) for x in range(2000,2010)]"
     ],
     "language": "python",
     "metadata": {},
     "outputs": []
    },
    {
     "cell_type": "code",
     "collapsed": false,
     "input": [
      "interact(sh, year=years, time=(0,355,1), var=variabs);"
     ],
     "language": "python",
     "metadata": {},
     "outputs": []
    },
    {
     "cell_type": "markdown",
     "metadata": {},
     "source": [
      "Two drop-down lists and a slider. Already looks pretty much like a serious GUI and all in just a few lines of code."
     ]
    },
    {
     "cell_type": "markdown",
     "metadata": {},
     "source": [
      "The problem with previous versions is that color scale is jumping together with data. This is not always nice, especially if we want to compare things. So let's add a check-box (boolean variable) that will switch from \"jumping\" to constant color scale, and upper and lower limits:"
     ]
    },
    {
     "cell_type": "code",
     "collapsed": false,
     "input": [
      "def sh(year='2000',var='air', FixedColor=False, vm=-3., vma=0., time=0):\n",
      "    f = Dataset(var+'.sig995.'+year+'.nc')\n",
      "    vv = f.variables[var]\n",
      "    if FixedColor==False:\n",
      "        imshow(vv[time,:,:])\n",
      "        colorbar()\n",
      "    else:\n",
      "        imshow(vv[time,:,:], vmin=vm, vmax=vma)\n",
      "        colorbar()"
     ],
     "language": "python",
     "metadata": {},
     "outputs": []
    },
    {
     "cell_type": "code",
     "collapsed": false,
     "input": [
      "interact(sh, year=years, time=(0,355,1), var=variabs,\\\n",
      "         vm=FloatTextWidget(value=250), vma=FloatTextWidget(value=300));"
     ],
     "language": "python",
     "metadata": {},
     "outputs": []
    },
    {
     "cell_type": "markdown",
     "metadata": {},
     "source": [
      "Here in case of the limits it is not clear what widget `interact` should use, so you can provide the name of it directly. The list of widgets is quite long and can be obtained like this: "
     ]
    },
    {
     "cell_type": "code",
     "collapsed": false,
     "input": [
      "from IPython.html import widgets\n",
      "[widget for widget in dir(widgets) if widget.endswith('Widget')]"
     ],
     "language": "python",
     "metadata": {},
     "outputs": []
    },
    {
     "cell_type": "markdown",
     "metadata": {},
     "source": [
      "Often you want to have not just simple *heat-map* representation of your data, but really the map. You can do this with help of Basemap. It will work surprisingly fast (at least in case of this small data)."
     ]
    },
    {
     "cell_type": "code",
     "collapsed": false,
     "input": [
      "from mpl_toolkits.basemap import Basemap"
     ],
     "language": "python",
     "metadata": {},
     "outputs": []
    },
    {
     "cell_type": "code",
     "collapsed": false,
     "input": [
      "m = Basemap(projection='npstere',boundinglat=60,lon_0=0,resolution='l')"
     ],
     "language": "python",
     "metadata": {},
     "outputs": []
    },
    {
     "cell_type": "code",
     "collapsed": false,
     "input": [
      "lon = f.variables['lon'][:]\n",
      "lat = f.variables['lat'][:]\n",
      "lon, lat = np.meshgrid(lon, lat)\n",
      "x, y = m(lon, lat)"
     ],
     "language": "python",
     "metadata": {},
     "outputs": []
    },
    {
     "cell_type": "code",
     "collapsed": false,
     "input": [
      "def sh(year='2000',var='air', FixedColor=False, vm=-3., vma=0., inte=10, time=0):\n",
      "    f = Dataset(var+'.sig995.'+year+'.nc')\n",
      "    vv = f.variables[var]\n",
      "    tt = f.variables['time']\n",
      "    dd = num2date(tt[time], tt.units)\n",
      "    if FixedColor==False:\n",
      "        m.fillcontinents(color='gray',lake_color='gray')\n",
      "        m.drawparallels(np.arange(-80.,81.,20.))\n",
      "        m.drawmeridians(np.arange(-180.,181.,20.))\n",
      "        m.drawmapboundary(fill_color='white')\n",
      "        cs = m.contourf(x,y,vv[time,:,:]-273.15)\n",
      "        #imshow(vv[time,:,:])\n",
      "        colorbar()\n",
      "        title(str(dd))\n",
      "        \n",
      "    else:\n",
      "        m.fillcontinents(color='gray',lake_color='gray')\n",
      "        m.drawparallels(np.arange(-80.,81.,20.))\n",
      "        m.drawmeridians(np.arange(-180.,181.,20.))\n",
      "        m.drawmapboundary(fill_color='white')\n",
      "        cs = m.contourf(x,y,vv[time,:,:]-273.15, levels = linspace(vm,vma,inte))\n",
      "        #imshow(vv[time,:,:])\n",
      "        colorbar()\n",
      "        title(str(dd))"
     ],
     "language": "python",
     "metadata": {},
     "outputs": []
    },
    {
     "cell_type": "code",
     "collapsed": false,
     "input": [
      "interact(sh, year=years, time=(0,355,1), var=variabs,\\\n",
      "         vm=FloatTextWidget(value=250), vma=FloatTextWidget(value=300), inte=FloatTextWidget(value=10));"
     ],
     "language": "python",
     "metadata": {},
     "outputs": []
    }
   ],
   "metadata": {}
  }
 ]
}