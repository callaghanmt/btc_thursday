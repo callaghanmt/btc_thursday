{
 "metadata": {
  "name": "",
  "signature": "sha256:83e72f9a555d2a6d96a45cf4330d039b3109c5b43aa83e8450edd3887ecd7e62"
 },
 "nbformat": 3,
 "nbformat_minor": 0,
 "worksheets": [
  {
   "cells": [
    {
     "cell_type": "heading",
     "level": 2,
     "metadata": {
      "cell_tags": []
     },
     "source": [
      "Analyzing Multiple Data Sets"
     ]
    },
    {
     "cell_type": "markdown",
     "metadata": {
      "cell_tags": []
     },
     "source": [
      "We can now create a function called `analyze` that creates graphs of the minimum, average, and maximum daily temperatures\n",
      "for a single data set:"
     ]
    },
    {
     "cell_type": "code",
     "collapsed": false,
     "input": [
      "%matplotlib inline\n",
      "\n",
      "import numpy as np\n",
      "from matplotlib import pyplot as plt\n",
      "\n",
      "def analyze(filename):\n",
      "    data = np.loadtxt(fname=filename, delimiter=',')\n",
      "    \n",
      "    plt.figure(figsize=(10.0, 3.0))\n",
      "    \n",
      "    plt.subplot(1, 3, 1)\n",
      "    plt.ylabel('average')\n",
      "    plt.plot(data.mean(axis=0))\n",
      "    \n",
      "    plt.subplot(1, 3, 2)\n",
      "    plt.ylabel('max')\n",
      "    plt.plot(data.max(0))\n",
      "    \n",
      "    plt.subplot(1, 3, 3)\n",
      "    plt.ylabel('min')\n",
      "    plt.plot(data.min(0))\n",
      "    \n",
      "    plt.tight_layout()\n",
      "    plt.show()\n"
     ],
     "language": "python",
     "metadata": {
      "cell_tags": []
     },
     "outputs": [],
     "prompt_number": 1
    },
    {
     "cell_type": "code",
     "collapsed": false,
     "input": [
      "analyze('data-01.csv')"
     ],
     "language": "python",
     "metadata": {},
     "outputs": [
      {
       "metadata": {},
       "output_type": "display_data",
       "png": "[encoded data removed]",
       "text": [
        "<matplotlib.figure.Figure at 0x1041c8710>"
       ]
      }
     ],
     "prompt_number": 2
    },
    {
     "cell_type": "markdown",
     "metadata": {
      "cell_tags": []
     },
     "source": [
      "We can use it to analyze other data sets one by one:"
     ]
    },
    {
     "cell_type": "code",
     "collapsed": false,
     "input": [
      "analyze('data-03.csv')"
     ],
     "language": "python",
     "metadata": {
      "cell_tags": []
     },
     "outputs": []
    },
    {
     "cell_type": "markdown",
     "metadata": {
      "cell_tags": []
     },
     "source": [
      "but we have a dozen data sets right now and more on the way.\n",
      "We want to create plots for all our data sets with a single statement.\n",
      "To do that,\n",
      "we'll have to teach the computer how to repeat things."
     ]
    },
    {
     "cell_type": "markdown",
     "metadata": {
      "cell_tags": [
       "objectives"
      ]
     },
     "source": [
      "#### Objectives\n",
      "\n",
      "*   Explain what a for loop does.\n",
      "*   Correctly write for loops to repeat simple calculations.\n",
      "*   Trace changes to a loop variable as the loop runs.\n",
      "*   Trace changes to other variables as they are updated by a for loop.\n",
      "*   Explain what a list is.\n",
      "*   Create and index lists of simple values.\n",
      "*   Use a library function to get a list of filenames that match a simple wildcard pattern.\n",
      "*   Use a for loop to process multiple files."
     ]
    },
    {
     "cell_type": "heading",
     "level": 3,
     "metadata": {
      "cell_tags": []
     },
     "source": [
      "For Loops"
     ]
    },
    {
     "cell_type": "markdown",
     "metadata": {
      "cell_tags": []
     },
     "source": [
      "Suppose we want to print each character in the word \"lead\" on a line of its own.\n",
      "One way is to use four `print` statements:"
     ]
    },
    {
     "cell_type": "code",
     "collapsed": false,
     "input": [
      "def print_characters(element):\n",
      "    print element[0]\n",
      "    print element[1]\n",
      "    print element[2]\n",
      "    print element[3]\n",
      "\n",
      "print_characters('lead')"
     ],
     "language": "python",
     "metadata": {
      "cell_tags": []
     },
     "outputs": []
    },
    {
     "cell_type": "markdown",
     "metadata": {
      "cell_tags": []
     },
     "source": [
      "but that's a bad approach for two reasons:\n",
      "\n",
      "1.  It doesn't scale:\n",
      "    if we want to print the characters in a string that's hundreds of letters long,\n",
      "    we'd be better off just typing them in.\n",
      "\n",
      "1.  It's fragile:\n",
      "    if we give it a longer string,\n",
      "    it only prints part of the data,\n",
      "    and if we give it a shorter one,\n",
      "    it produces an error because we're asking for characters that don't exist."
     ]
    },
    {
     "cell_type": "code",
     "collapsed": false,
     "input": [
      "print_characters('tin')"
     ],
     "language": "python",
     "metadata": {},
     "outputs": []
    },
    {
     "cell_type": "markdown",
     "metadata": {},
     "source": [
      "Here's a better approach:"
     ]
    },
    {
     "cell_type": "code",
     "collapsed": false,
     "input": [
      "def print_characters(element):\n",
      "    for char in element:\n",
      "        print char\n",
      "\n",
      "print_characters('lead')"
     ],
     "language": "python",
     "metadata": {
      "cell_tags": []
     },
     "outputs": []
    },
    {
     "cell_type": "markdown",
     "metadata": {
      "cell_tags": []
     },
     "source": [
      "This is shorter---certainly shorter than something that prints every character in a hundred-letter string---and\n",
      "more robust as well:"
     ]
    },
    {
     "cell_type": "code",
     "collapsed": false,
     "input": [
      "print_characters('oxygen')"
     ],
     "language": "python",
     "metadata": {
      "cell_tags": []
     },
     "outputs": []
    },
    {
     "cell_type": "markdown",
     "metadata": {
      "cell_tags": []
     },
     "source": [
      "The improved version of `print_characters` uses a [for loop](../../gloss.html#for-loop)\n",
      "to repeat an operation---in this case, printing---once for each thing in a collection.\n",
      "The general form of a loop is:\n",
      "\n",
      "<pre>\n",
      "<strong>for</strong> <em>variable</em> <strong>in</strong> <em>collection</em><strong>:</strong>\n",
      "    <em>do things with variable</em>\n",
      "</pre>"
     ]
    },
    {
     "cell_type": "markdown",
     "metadata": {
      "cell_tags": []
     },
     "source": [
      "We can call the [loop variable](../../gloss.html#loop-variable) anything we like,\n",
      "but there must be a colon at the end of the line starting the loop,\n",
      "and we must indent the body of the loop.\n",
      "\n",
      "Here's another loop that repeatedly updates a variable:"
     ]
    },
    {
     "cell_type": "code",
     "collapsed": false,
     "input": [
      "def length(string):\n",
      "    length = 0\n",
      "    for vowel in string:\n",
      "        length = length + 1\n",
      "    return length\n",
      "\n",
      "string = 'aeiou'\n",
      "print 'There are', length(string), 'vowels in ' + string\n",
      "\n",
      "%timeit(length(string))"
     ],
     "language": "python",
     "metadata": {
      "cell_tags": []
     },
     "outputs": []
    },
    {
     "cell_type": "markdown",
     "metadata": {
      "cell_tags": []
     },
     "source": [
      "It's worth tracing the execution of this little program step by step.\n",
      "Since there are five characters in `'aeiou'`,\n",
      "the statement on line 3 will be executed five times.\n",
      "The first time around,\n",
      "`length` is zero (the value assigned to it on line 1)\n",
      "and `vowel` is `'a'`.\n",
      "The statement adds 1 to the old value of `length`,\n",
      "producing 1,\n",
      "and updates `length` to refer to that new value.\n",
      "The next time around,\n",
      "`vowel` is `'e'` and `length` is 1,\n",
      "so `length` is updated to be 2.\n",
      "After three more updates,\n",
      "`length` is 5;\n",
      "since there is nothing left in `'aeiou'` for Python to process,\n",
      "the loop finishes\n",
      "and the `print` statement on line 4 tells us our final answer.\n",
      "\n",
      "Note that a loop variable is just a variable that's being used to record progress in a loop.\n",
      "It still exists after the loop is over,\n",
      "and we can re-use variables previously defined as loop variables as well:"
     ]
    },
    {
     "cell_type": "code",
     "collapsed": false,
     "input": [
      "for letter in 'abc':\n",
      "    print letter\n",
      "print 'after the loop, letter is', letter"
     ],
     "language": "python",
     "metadata": {},
     "outputs": []
    },
    {
     "cell_type": "markdown",
     "metadata": {
      "cell_tags": []
     },
     "source": [
      "Note also that finding the length of a string is such a common operation\n",
      "that Python actually has a built-in function to do it called `len`:"
     ]
    },
    {
     "cell_type": "code",
     "collapsed": false,
     "input": [
      "string = 'aeiou'\n",
      "%timeit l=len(string)\n",
      "print 'There are', length(string), 'vowels in ' + string"
     ],
     "language": "python",
     "metadata": {
      "cell_tags": []
     },
     "outputs": []
    },
    {
     "cell_type": "markdown",
     "metadata": {
      "cell_tags": []
     },
     "source": [
      "`len` is much faster than any function we could write ourselves,\n",
      "and much easier to read than a two-line loop;\n",
      "it will also give us the length of many other things that we haven't met yet,\n",
      "so we should always use it when we can."
     ]
    },
    {
     "cell_type": "markdown",
     "metadata": {
      "cell_tags": [
       "challenges"
      ]
     },
     "source": [
      "#### Challenges\n",
      "\n",
      "1.  Python has a built-in function called `range` that creates a list of numbers:\n",
      "    `range(3)` produces `[0, 1, 2]`, `range(2, 5)` produces `[2, 3, 4]`.\n",
      "    Using `range`, write a function called `rev` that takes a string as input, and produces a new string with the characters in reverse order:\n",
      "    \n",
      "    ~~~python\n",
      "    print rev('Newton')\n",
      "    notweN\n",
      "    ~~~\n",
      "    \n",
      "    As always, be sure to include a docstring.\n",
      "    \n",
      "1.  Exponentiation is built into Python:\n",
      "\n",
      "    ~~~python\n",
      "    print 5**3\n",
      "    125\n",
      "    ~~~\n",
      "    \n",
      "    It also has a function called `pow` that calculates the same value.\n",
      "    Write a function called `expo` that uses a loop to calculate the same result.\n"
     ]
    },
    {
     "cell_type": "code",
     "collapsed": false,
     "input": [
      "def rev(string):\n",
      "    newstring=\"\"\n",
      "    for i in range(len(string)-1,-1,-1):\n",
      "        newstring +=string[i]\n",
      "        \n",
      "    return newstring\n",
      "\n",
      "print rev('Newton')\n",
      "print rev('Hello world')"
     ],
     "language": "python",
     "metadata": {},
     "outputs": [
      {
       "output_type": "stream",
       "stream": "stdout",
       "text": [
        "notweN\n",
        "dlrow olleH\n"
       ]
      }
     ],
     "prompt_number": 9
    },
    {
     "cell_type": "code",
     "collapsed": false,
     "input": [
      "def reverse(string):\n",
      "    print string[::-1]\n",
      "    \n",
      "reverse('Newton') \n",
      "reverse('Hello world')"
     ],
     "language": "python",
     "metadata": {},
     "outputs": [
      {
       "output_type": "stream",
       "stream": "stdout",
       "text": [
        "notweN\n",
        "dlrow olleH\n"
       ]
      }
     ],
     "prompt_number": 6
    },
    {
     "cell_type": "code",
     "collapsed": false,
     "input": [
      "def expo(nums):\n",
      "    for x in nums:\n",
      "        print x**2\n",
      "        \n",
      "expo(34)"
     ],
     "language": "python",
     "metadata": {},
     "outputs": [
      {
       "ename": "TypeError",
       "evalue": "'int' object is not iterable",
       "output_type": "pyerr",
       "traceback": [
        "\u001b[0;31m---------------------------------------------------------------------------\u001b[0m\n\u001b[0;31mTypeError\u001b[0m                                 Traceback (most recent call last)",
        "\u001b[0;32m<ipython-input-8-f75da90930f0>\u001b[0m in \u001b[0;36m<module>\u001b[0;34m()\u001b[0m\n\u001b[1;32m      3\u001b[0m         \u001b[0;32mprint\u001b[0m \u001b[0mx\u001b[0m\u001b[0;34m**\u001b[0m\u001b[0;36m2\u001b[0m\u001b[0;34m\u001b[0m\u001b[0m\n\u001b[1;32m      4\u001b[0m \u001b[0;34m\u001b[0m\u001b[0m\n\u001b[0;32m----> 5\u001b[0;31m \u001b[0mexpo\u001b[0m\u001b[0;34m(\u001b[0m\u001b[0;36m34\u001b[0m\u001b[0;34m)\u001b[0m\u001b[0;34m\u001b[0m\u001b[0m\n\u001b[0m",
        "\u001b[0;32m<ipython-input-8-f75da90930f0>\u001b[0m in \u001b[0;36mexpo\u001b[0;34m(nums)\u001b[0m\n\u001b[1;32m      1\u001b[0m \u001b[0;32mdef\u001b[0m \u001b[0mexpo\u001b[0m\u001b[0;34m(\u001b[0m\u001b[0mnums\u001b[0m\u001b[0;34m)\u001b[0m\u001b[0;34m:\u001b[0m\u001b[0;34m\u001b[0m\u001b[0m\n\u001b[0;32m----> 2\u001b[0;31m     \u001b[0;32mfor\u001b[0m \u001b[0mx\u001b[0m \u001b[0;32min\u001b[0m \u001b[0mnums\u001b[0m\u001b[0;34m:\u001b[0m\u001b[0;34m\u001b[0m\u001b[0m\n\u001b[0m\u001b[1;32m      3\u001b[0m         \u001b[0;32mprint\u001b[0m \u001b[0mx\u001b[0m\u001b[0;34m**\u001b[0m\u001b[0;36m2\u001b[0m\u001b[0;34m\u001b[0m\u001b[0m\n\u001b[1;32m      4\u001b[0m \u001b[0;34m\u001b[0m\u001b[0m\n\u001b[1;32m      5\u001b[0m \u001b[0mexpo\u001b[0m\u001b[0;34m(\u001b[0m\u001b[0;36m34\u001b[0m\u001b[0;34m)\u001b[0m\u001b[0;34m\u001b[0m\u001b[0m\n",
        "\u001b[0;31mTypeError\u001b[0m: 'int' object is not iterable"
       ]
      }
     ],
     "prompt_number": 8
    },
    {
     "cell_type": "heading",
     "level": 3,
     "metadata": {
      "cell_tags": []
     },
     "source": [
      "Lists"
     ]
    },
    {
     "cell_type": "markdown",
     "metadata": {
      "cell_tags": []
     },
     "source": [
      "Just as a `for` loop is a way to do operations many times,\n",
      "a list is a way to store many values.\n",
      "Unlike NumPy arrays,\n",
      "there are built into the language.\n",
      "We create a list by putting values inside square brackets:"
     ]
    },
    {
     "cell_type": "code",
     "collapsed": false,
     "input": [
      "odds = [1, 3, 5, 7]\n",
      "print 'odds are:', odds"
     ],
     "language": "python",
     "metadata": {
      "cell_tags": []
     },
     "outputs": []
    },
    {
     "cell_type": "markdown",
     "metadata": {
      "cell_tags": []
     },
     "source": [
      "We select individual elements from lists by indexing them:"
     ]
    },
    {
     "cell_type": "code",
     "collapsed": false,
     "input": [
      "print 'first and last:', odds[0], odds[-1]"
     ],
     "language": "python",
     "metadata": {
      "cell_tags": []
     },
     "outputs": []
    },
    {
     "cell_type": "markdown",
     "metadata": {
      "cell_tags": []
     },
     "source": [
      "and if we loop over a list,\n",
      "the loop variable is assigned elements one at a time:"
     ]
    },
    {
     "cell_type": "code",
     "collapsed": false,
     "input": [
      "for number in odds:\n",
      "    print number"
     ],
     "language": "python",
     "metadata": {
      "cell_tags": []
     },
     "outputs": []
    },
    {
     "cell_type": "markdown",
     "metadata": {
      "cell_tags": []
     },
     "source": [
      "There is one important difference between lists and strings:\n",
      "we can change the values in a list,\n",
      "but we cannot change the characters in a string.\n",
      "For example:"
     ]
    },
    {
     "cell_type": "code",
     "collapsed": false,
     "input": [
      "names = ['Newton', 'Darwing', 'Turing'] # typo in Darwin's name\n",
      "print 'names is originally:', names\n",
      "names[1] = 'Darwin' # correct the name\n",
      "print 'final value of names:', names"
     ],
     "language": "python",
     "metadata": {
      "cell_tags": []
     },
     "outputs": []
    },
    {
     "cell_type": "markdown",
     "metadata": {
      "cell_tags": []
     },
     "source": [
      "works, but:"
     ]
    },
    {
     "cell_type": "code",
     "collapsed": false,
     "input": [
      "name = 'Bell'\n",
      "name[0] = 'b'"
     ],
     "language": "python",
     "metadata": {
      "cell_tags": []
     },
     "outputs": []
    },
    {
     "cell_type": "markdown",
     "metadata": {
      "cell_tags": []
     },
     "source": [
      "does not.\n",
      "\n",
      "> #### Ch-Ch-Ch-Changes\n",
      ">\n",
      "> Data that can be changed is called [mutable](../../gloss.html#mutable),\n",
      "> while data that cannot be is called [immutable](../../gloss.html#immutable).\n",
      "> Like strings,\n",
      "> numbers are immutable:\n",
      "> there's no way to make the number 0 have the value 1 or vice versa\n",
      "> (at least, not in Python&mdash;there actually *are* languages that will let people do this,\n",
      "> with predictably confusing results).\n",
      "> Lists and arrays,\n",
      "> on the other hand,\n",
      "> are mutable:\n",
      "> both can be modified after they have been created.\n",
      ">\n",
      "> Programs that modify data in place can be harder to understand than ones that don't\n",
      "> because readers may have to mentally sum up many lines of code\n",
      "> in order to figure out what the value of something actually is.\n",
      "> On the other hand,\n",
      "> programs that modify data in place instead of creating copies that are almost identical to the original\n",
      "> every time they want to make a small change\n",
      "> are much more efficient.\n",
      "\n",
      "There are many ways to change the contents of lists besides assigning to elements:"
     ]
    },
    {
     "cell_type": "code",
     "collapsed": false,
     "input": [
      "odds.append(11)\n",
      "print 'odds after adding a value:', odds"
     ],
     "language": "python",
     "metadata": {
      "cell_tags": []
     },
     "outputs": []
    },
    {
     "cell_type": "code",
     "collapsed": false,
     "input": [
      "del odds[0]\n",
      "print 'odds after removing the first element:', odds"
     ],
     "language": "python",
     "metadata": {
      "cell_tags": []
     },
     "outputs": []
    },
    {
     "cell_type": "code",
     "collapsed": false,
     "input": [
      "odds.reverse()\n",
      "print 'odds after reversing:', odds"
     ],
     "language": "python",
     "metadata": {
      "cell_tags": []
     },
     "outputs": []
    },
    {
     "cell_type": "markdown",
     "metadata": {
      "cell_tags": [
       "challenges"
      ]
     },
     "source": [
      "#### Challenges\n",
      "\n",
      "1.  Write a function called `total` that calculates the sum of the values in a list.\n",
      "    (Python has a built-in function called `sum` that does this for you.\n",
      "    Please don't use it for this exercise.)"
     ]
    },
    {
     "cell_type": "code",
     "collapsed": false,
     "input": [
      "def total(listin):\n",
      "    \"\"\"calculate the sum of a list\"\"\"\n",
      "    result = 0.0\n",
      "    for i in listin:\n",
      "        result += i\n",
      "    return result\n",
      "\n",
      "print total([1,2,3,4])"
     ],
     "language": "python",
     "metadata": {},
     "outputs": [
      {
       "output_type": "stream",
       "stream": "stdout",
       "text": [
        "10.0\n"
       ]
      }
     ],
     "prompt_number": 10
    },
    {
     "cell_type": "heading",
     "level": 3,
     "metadata": {
      "cell_tags": []
     },
     "source": [
      "Processing Multiple Files"
     ]
    },
    {
     "cell_type": "code",
     "collapsed": false,
     "input": [
      "help(total)"
     ],
     "language": "python",
     "metadata": {},
     "outputs": [
      {
       "output_type": "stream",
       "stream": "stdout",
       "text": [
        "Help on function total in module __main__:\n",
        "\n",
        "total(listin)\n",
        "    calculate the sum of a list\n",
        "\n"
       ]
      }
     ],
     "prompt_number": 11
    },
    {
     "cell_type": "markdown",
     "metadata": {
      "cell_tags": []
     },
     "source": [
      "We now have almost everything we need to process all our data files.\n",
      "The only thing that's missing is a library with a rather unpleasant name:"
     ]
    },
    {
     "cell_type": "code",
     "collapsed": false,
     "input": [
      "import glob"
     ],
     "language": "python",
     "metadata": {
      "cell_tags": []
     },
     "outputs": [],
     "prompt_number": 14
    },
    {
     "cell_type": "markdown",
     "metadata": {
      "cell_tags": []
     },
     "source": [
      "The `glob` library contains a single function, also called `glob`,\n",
      "that finds files whose names match a pattern.\n",
      "We provide those patterns as strings:\n",
      "the character `*` matches zero or more characters,\n",
      "while `?` matches any one character.\n",
      "We can use this to get the names of all the IPython Notebooks we have created so far:"
     ]
    },
    {
     "cell_type": "code",
     "collapsed": false,
     "input": [
      "print glob.glob('*.ipynb')"
     ],
     "language": "python",
     "metadata": {
      "cell_tags": []
     },
     "outputs": []
    },
    {
     "cell_type": "markdown",
     "metadata": {
      "cell_tags": []
     },
     "source": [
      "or to get the names of all our CSV data files:"
     ]
    },
    {
     "cell_type": "code",
     "collapsed": false,
     "input": [
      "print glob.glob('data/*.csv')"
     ],
     "language": "python",
     "metadata": {
      "cell_tags": []
     },
     "outputs": []
    },
    {
     "cell_type": "markdown",
     "metadata": {
      "cell_tags": []
     },
     "source": [
      "As these examples show,\n",
      "`glob.glob`'s result is a list of strings,\n",
      "which means we can loop over it\n",
      "to do something with each filename in turn.\n",
      "In our case,\n",
      "the \"something\" we want is our `analyze` function.\n",
      "Let's test it by analyzing the first three files in the list:"
     ]
    },
    {
     "cell_type": "code",
     "collapsed": false,
     "input": [
      "filenames = glob.glob('data/*.csv')\n",
      "filenames = filenames[0:3]\n",
      "for f in filenames:\n",
      "    print f\n",
      "    analyze(f)"
     ],
     "language": "python",
     "metadata": {
      "cell_tags": []
     },
     "outputs": []
    },
    {
     "cell_type": "markdown",
     "metadata": {
      "cell_tags": []
     },
     "source": [
      "Sure enough,\n",
      "the maxima of these data sets show exactly the same ramp as the first,\n",
      "and their minima show the same staircase structure."
     ]
    },
    {
     "cell_type": "markdown",
     "metadata": {
      "cell_tags": [
       "challenges"
      ]
     },
     "source": [
      "#### Challenges\n",
      "\n",
      "1.  Write a function called `analyze_all` that takes a filename pattern as its sole argument\n",
      "    and runs `analyze` for each file whose name matches the pattern."
     ]
    },
    {
     "cell_type": "code",
     "collapsed": false,
     "input": [
      "def analyze_all(reg_exp):\n",
      "    \"\"\"Take reg exp to create list of filenames...\n",
      "    \"\"\"\n",
      "    filenames = glob.glob(reg_exp)\n",
      "    for f in filenames:\n",
      "        print(f)\n",
      "        analyze(f)\n",
      "\n"
     ],
     "language": "python",
     "metadata": {},
     "outputs": [],
     "prompt_number": 15
    },
    {
     "cell_type": "code",
     "collapsed": false,
     "input": [
      "analyze_all('*[1].csv')"
     ],
     "language": "python",
     "metadata": {},
     "outputs": [
      {
       "output_type": "stream",
       "stream": "stdout",
       "text": [
        "data-01.csv\n"
       ]
      },
      {
       "metadata": {},
       "output_type": "display_data",
       "png": "[encoded data removed]",
       "text": [
        "<matplotlib.figure.Figure at 0x106337210>"
       ]
      },
      {
       "output_type": "stream",
       "stream": "stdout",
       "text": [
        "data-11.csv\n"
       ]
      },
      {
       "metadata": {},
       "output_type": "display_data",
       "png": "[encoded data removed]",
       "text": [
        "<matplotlib.figure.Figure at 0x10626de50>"
       ]
      }
     ],
     "prompt_number": 16
    },
    {
     "cell_type": "markdown",
     "metadata": {
      "cell_tags": []
     },
     "source": [
      "#### Key Points\n",
      "\n",
      "*   Use `for variable in collection` to process the elements of a collection one at a time.\n",
      "*   The body of a for loop must be indented.\n",
      "*   Use `len(thing)` to determine the length of something that contains other values.\n",
      "*   `[value1, value2, value3, ...]` creates a list.\n",
      "*   Lists are indexed and sliced in the same way as strings and arrays.\n",
      "*   Lists are mutable (i.e., their values can be changed in place).\n",
      "*   Strings are immutable (i.e., the characters in them cannot be changed).\n",
      "*   Use `glob.glob(pattern)` to create a list of files whose names match a pattern.\n",
      "*   Use `*` in a pattern to match zero or more characters, and `?` to match any single character."
     ]
    },
    {
     "cell_type": "markdown",
     "metadata": {
      "cell_tags": []
     },
     "source": [
      "#### Next Steps\n",
      "\n",
      "We have now solved our original problem:\n",
      "we can analyze any number of data files with a single command.\n",
      "More importantly,\n",
      "we have met two of the most important ideas in programming:\n",
      "\n",
      "1.  Use functions to make code easier to re-use and easier to understand.\n",
      "1.  Use lists and arrays to store related values, and loops to repeat operations on them.\n",
      "\n",
      "We have one more big idea to introduce,\n",
      "and then we will be able to go back and create a heat map\n",
      "like the one we initially used to display our first data set."
     ]
    }
   ],
   "metadata": {}
  }
 ]
}