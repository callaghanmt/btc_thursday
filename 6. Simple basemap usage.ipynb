{
 "metadata": {
  "name": "",
  "signature": "sha256:ea154152203af21a8ec869e9ae40f0b85c7e032c7b9f13694189ad84ef107997"
 },
 "nbformat": 3,
 "nbformat_minor": 0,
 "worksheets": [
  {
   "cells": [
    {
     "cell_type": "code",
     "collapsed": false,
     "input": [
      "from mpl_toolkits.basemap import Basemap\n",
      "import matplotlib.pyplot as plt\n",
      "import numpy as np\n",
      " \n",
      "# make sure the value of resolution is a lowercase L,\n",
      "#  for 'low', not a numeral 1\n",
      "\n",
      "#create a map based on a mercator projection\n",
      "map = Basemap(projection='merc', lat_0=55, lon_0=1.5,\n",
      "              resolution='l', area_thresh=50.0, llcrnrlon= -10.5, \n",
      "              llcrnrlat = 49.5, urcrnrlon= 3.5, urcrnrlat = 59.5)\n",
      "\n",
      "#add coastlines and draw country boundaries\n",
      "map.drawcoastlines()\n",
      "map.drawcountries()\n",
      "\n",
      "#fill continents and features with appropriate colours\n",
      "map.fillcontinents(color='gold', lake_color='blue')\n",
      "\n",
      "#add a bluemarble effect to oceans\n",
      "map.bluemarble()\n",
      "\n",
      "#draw a boundary around the globe\n",
      "map.drawmapboundary()\n",
      "\n",
      "#draw in meridians and parallels\n",
      "map.drawmeridians(np.arange(0,360,30))\n",
      "map.drawparallels(np.arange(-90,90,30))\n",
      "\n",
      "#red circle for Leeds\n",
      "lon_leeds=-1.55\n",
      "lat_leeds=53.8\n",
      "\n",
      "x,y = map(lon_leeds, lat_leeds)\n",
      "map.plot(x,y, 'ro', markersize=10)\n",
      "\n",
      "#blue triangle for Bristol\n",
      "lon_bris=-2.58\n",
      "lat_bris=51.45\n",
      "\n",
      "x,y = map(lon_bris, lat_bris)\n",
      "map.plot(x,y, 'b^', markersize=10)\n",
      "\n",
      "plt.show()"
     ],
     "language": "python",
     "metadata": {},
     "outputs": [],
     "prompt_number": 2
    },
    {
     "cell_type": "code",
     "collapsed": false,
     "input": [],
     "language": "python",
     "metadata": {},
     "outputs": []
    }
   ],
   "metadata": {}
  }
 ]
}